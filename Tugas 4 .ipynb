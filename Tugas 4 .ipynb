{
 "cells": [
  {
   "cell_type": "markdown",
   "metadata": {},
   "source": [
    "# 1. Uji Data Menggunakan test Alpha Cronbach"
   ]
  },
  {
   "cell_type": "code",
   "execution_count": 36,
   "metadata": {},
   "outputs": [],
   "source": [
    "Survdata<-read.csv('data2.csv')"
   ]
  },
  {
   "cell_type": "code",
   "execution_count": 37,
   "metadata": {},
   "outputs": [
    {
     "data": {
      "text/html": [
       "<table>\n",
       "<thead><tr><th scope=col>X</th><th scope=col>Q1</th><th scope=col>Q2</th><th scope=col>Q3</th><th scope=col>Q4</th><th scope=col>Q5</th><th scope=col>Q6</th><th scope=col>Q7</th><th scope=col>Q8</th><th scope=col>Q9</th><th scope=col>Q10</th></tr></thead>\n",
       "<tbody>\n",
       "\t<tr><td>Sangat Tidak Setuju</td><td> 43                </td><td>  0                </td><td> 32                </td><td> 20                </td><td> 45                </td><td> 22                </td><td>121                </td><td> 93                </td><td>  0                </td><td> 18                </td></tr>\n",
       "\t<tr><td>Tidak Setuju       </td><td> 47                </td><td>  0                </td><td> 68                </td><td> 58                </td><td> 84                </td><td> 46                </td><td>197                </td><td>206                </td><td>  0                </td><td> 47                </td></tr>\n",
       "\t<tr><td>Ragu Ragu          </td><td> 81                </td><td>  0                </td><td>173                </td><td>166                </td><td>138                </td><td> 81                </td><td> 77                </td><td>101                </td><td>  0                </td><td>100                </td></tr>\n",
       "\t<tr><td>Setuju             </td><td>241                </td><td>  0                </td><td>193                </td><td>210                </td><td>200                </td><td>230                </td><td> 75                </td><td> 69                </td><td>  0                </td><td>226                </td></tr>\n",
       "\t<tr><td>Sangat Setuju      </td><td> 90                </td><td>  0                </td><td> 36                </td><td> 48                </td><td> 35                </td><td>123                </td><td> 32                </td><td> 33                </td><td>  0                </td><td>111                </td></tr>\n",
       "\t<tr><td>Tidak Pernah       </td><td>  0                </td><td>346                </td><td>  0                </td><td>  0                </td><td>  0                </td><td>  0                </td><td>  0                </td><td>  0                </td><td>373                </td><td>  0                </td></tr>\n",
       "</tbody>\n",
       "</table>\n"
      ],
      "text/latex": [
       "\\begin{tabular}{r|lllllllllll}\n",
       " X & Q1 & Q2 & Q3 & Q4 & Q5 & Q6 & Q7 & Q8 & Q9 & Q10\\\\\n",
       "\\hline\n",
       "\t Sangat Tidak Setuju &  43                 &   0                 &  32                 &  20                 &  45                 &  22                 & 121                 &  93                 &   0                 &  18                \\\\\n",
       "\t Tidak Setuju        &  47                 &   0                 &  68                 &  58                 &  84                 &  46                 & 197                 & 206                 &   0                 &  47                \\\\\n",
       "\t Ragu Ragu           &  81                 &   0                 & 173                 & 166                 & 138                 &  81                 &  77                 & 101                 &   0                 & 100                \\\\\n",
       "\t Setuju              & 241                 &   0                 & 193                 & 210                 & 200                 & 230                 &  75                 &  69                 &   0                 & 226                \\\\\n",
       "\t Sangat Setuju       &  90                 &   0                 &  36                 &  48                 &  35                 & 123                 &  32                 &  33                 &   0                 & 111                \\\\\n",
       "\t Tidak Pernah        &   0                 & 346                 &   0                 &   0                 &   0                 &   0                 &   0                 &   0                 & 373                 &   0                \\\\\n",
       "\\end{tabular}\n"
      ],
      "text/markdown": [
       "\n",
       "| X | Q1 | Q2 | Q3 | Q4 | Q5 | Q6 | Q7 | Q8 | Q9 | Q10 |\n",
       "|---|---|---|---|---|---|---|---|---|---|---|\n",
       "| Sangat Tidak Setuju |  43                 |   0                 |  32                 |  20                 |  45                 |  22                 | 121                 |  93                 |   0                 |  18                 |\n",
       "| Tidak Setuju        |  47                 |   0                 |  68                 |  58                 |  84                 |  46                 | 197                 | 206                 |   0                 |  47                 |\n",
       "| Ragu Ragu           |  81                 |   0                 | 173                 | 166                 | 138                 |  81                 |  77                 | 101                 |   0                 | 100                 |\n",
       "| Setuju              | 241                 |   0                 | 193                 | 210                 | 200                 | 230                 |  75                 |  69                 |   0                 | 226                 |\n",
       "| Sangat Setuju       |  90                 |   0                 |  36                 |  48                 |  35                 | 123                 |  32                 |  33                 |   0                 | 111                 |\n",
       "| Tidak Pernah        |   0                 | 346                 |   0                 |   0                 |   0                 |   0                 |   0                 |   0                 | 373                 |   0                 |\n",
       "\n"
      ],
      "text/plain": [
       "  X                   Q1  Q2  Q3  Q4  Q5  Q6  Q7  Q8  Q9  Q10\n",
       "1 Sangat Tidak Setuju  43   0  32  20  45  22 121  93   0  18\n",
       "2 Tidak Setuju         47   0  68  58  84  46 197 206   0  47\n",
       "3 Ragu Ragu            81   0 173 166 138  81  77 101   0 100\n",
       "4 Setuju              241   0 193 210 200 230  75  69   0 226\n",
       "5 Sangat Setuju        90   0  36  48  35 123  32  33   0 111\n",
       "6 Tidak Pernah          0 346   0   0   0   0   0   0 373   0"
      ]
     },
     "metadata": {},
     "output_type": "display_data"
    }
   ],
   "source": [
    "head(Survdata)"
   ]
  },
  {
   "cell_type": "code",
   "execution_count": 38,
   "metadata": {},
   "outputs": [],
   "source": [
    "library('psych')"
   ]
  },
  {
   "cell_type": "code",
   "execution_count": 8,
   "metadata": {},
   "outputs": [
    {
     "name": "stderr",
     "output_type": "stream",
     "text": [
      "Warning message in var(if (is.vector(x) || is.factor(x)) x else as.double(x), na.rm = na.rm):\n",
      "\"NAs introduced by coercion\"Warning message in alpha(Survdata):\n",
      "\"Item = X had no variance and was deleted\"Warning message in cor.smooth(r):\n",
      "\"Matrix was not positive definite, smoothing was done\"In factor.stats, I could not find the RMSEA upper bound . Sorry about that\n",
      "Warning message in alpha(Survdata):\n",
      "\"Some items were negatively correlated with the total scale and probably \n",
      "should be reversed.  \n",
      "To do this, run the function again with the 'check.keys=TRUE' option\""
     ]
    },
    {
     "name": "stdout",
     "output_type": "stream",
     "text": [
      "Some items ( Q2 Q9 ) were negatively correlated with the total scale and \n",
      "probably should be reversed.  \n",
      "To do this, run the function again with the 'check.keys=TRUE' option"
     ]
    },
    {
     "name": "stderr",
     "output_type": "stream",
     "text": [
      "Warning message in cor.smooth(R):\n",
      "\"Matrix was not positive definite, smoothing was done\"Warning message in cor.smooth(R):\n",
      "\"Matrix was not positive definite, smoothing was done\"Warning message in cor.smooth(R):\n",
      "\"Matrix was not positive definite, smoothing was done\"Warning message in cor.smooth(R):\n",
      "\"Matrix was not positive definite, smoothing was done\"Warning message in cor.smooth(R):\n",
      "\"Matrix was not positive definite, smoothing was done\"Warning message in cor.smooth(R):\n",
      "\"Matrix was not positive definite, smoothing was done\"Warning message in cor.smooth(R):\n",
      "\"Matrix was not positive definite, smoothing was done\"Warning message in cor.smooth(R):\n",
      "\"Matrix was not positive definite, smoothing was done\"Warning message in cor.smooth(R):\n",
      "\"Matrix was not positive definite, smoothing was done\"Warning message in cor.smooth(R):\n",
      "\"Matrix was not positive definite, smoothing was done\"Warning message in cor.smooth(R):\n",
      "\"Matrix was not positive definite, smoothing was done\"Warning message in cor.smooth(R):\n",
      "\"Matrix was not positive definite, smoothing was done\""
     ]
    },
    {
     "data": {
      "text/plain": [
       "\n",
       "Reliability analysis   \n",
       "Call: alpha(x = Survdata)\n",
       "\n",
       "  raw_alpha std.alpha G6(smc) average_r S/N  ase mean sd median_r\n",
       "      0.76      0.84    0.98      0.34 5.1 0.12   50 46      0.4\n",
       "\n",
       " lower alpha upper     95% confidence boundaries\n",
       "0.52 0.76 1.01 \n",
       "\n",
       " Reliability if an item is dropped:\n",
       "    raw_alpha std.alpha G6(smc) average_r S/N var.r med.r\n",
       "Q1       0.69      0.79    0.97      0.29 3.7  0.31  0.37\n",
       "Q2       0.84      0.89    0.95      0.47 8.1  0.25  0.54\n",
       "Q3       0.69      0.78    0.99      0.29 3.6  0.32  0.34\n",
       "Q4       0.69      0.78    0.99      0.29 3.6  0.31  0.34\n",
       "Q5       0.69      0.78    1.00      0.28 3.5  0.31  0.34\n",
       "Q6       0.70      0.79    0.98      0.30 3.8  0.32  0.38\n",
       "Q7       0.75      0.83    0.99      0.35 4.8  0.35  0.49\n",
       "Q8       0.75      0.83    0.99      0.34 4.7  0.35  0.44\n",
       "Q9       0.85      0.89    0.95      0.47 7.9  0.26  0.54\n",
       "Q10      0.70      0.79    0.98      0.29 3.7  0.31  0.38\n",
       "\n",
       " Item statistics \n",
       "     n raw.r std.r r.cor r.drop mean  sd\n",
       "Q1  10 0.851  0.89  0.89   0.79   50  76\n",
       "Q2  10 0.023 -0.14 -0.14  -0.20   50 106\n",
       "Q3  10 0.871  0.92  0.93   0.82   50  74\n",
       "Q4  10 0.878  0.92  0.83   0.83   50  76\n",
       "Q5  10 0.898  0.95  0.96   0.86   50  70\n",
       "Q6  10 0.822  0.86  0.85   0.76   50  76\n",
       "Q7  10 0.496  0.57  0.58   0.37   50  67\n",
       "Q8  10 0.523  0.60  0.60   0.40   50  68\n",
       "Q9  10 0.057 -0.11 -0.11  -0.19   50 115\n",
       "Q10 10 0.847  0.89  0.88   0.79   50  75"
      ]
     },
     "metadata": {},
     "output_type": "display_data"
    },
    {
     "name": "stdout",
     "output_type": "stream",
     "text": [
      "[1] \"Q1 = Menurut anda seorang Programmer harus menguasai minimal 3 bahasa pemrograman\"\n",
      "[1] \"Q2 = Apakah anda pernah mengunakan bahasa python\"\n",
      "[1] \"Q3 = Bahasa pemrograman python lebih mudah untuk digunakan daripada bahasa pemrograman java\"\n",
      "[1] \"Q4 = Menurut anda,apakah Bahasa pemrograman python memiliki readability yang user-friendly\"\n",
      "[1] \"Q5 = Seorang programmer boleh menggenalkan bug yang ada di dalam software yang nanti\"\n",
      "[1] \"Q6 = Programmer tidak boleh mencuri Software khususnya development tools\"\n",
      "[1] \"Q7 = Software yang dibuat secara tim dapat diperjual belikan tanpa memberitahukan kepada anggota tim yang lain\"\n",
      "[1] \"Q8 = Menurut anda apakah software bajakan baik untuk digunakan?\"\n",
      "[1] \"Q9 = Apakah anda pernah mengikuti program sertifikasi untuk software programmer\"\n",
      "[1] \"Q10 = Apakah anda setuju jika seorang Software programmer jika memiliki lebih dari satu sertifikat\"\n"
     ]
    }
   ],
   "source": [
    "alpha(Survdata)\n",
    "print('Q1 = Menurut anda seorang Programmer harus menguasai minimal 3 bahasa pemrograman')\n",
    "print('Q2 = Apakah anda pernah mengunakan bahasa python')\n",
    "print('Q3 = Bahasa pemrograman python lebih mudah untuk digunakan daripada bahasa pemrograman java')\n",
    "print('Q4 = Menurut anda,apakah Bahasa pemrograman python memiliki readability yang user-friendly')\n",
    "print('Q5 = Seorang programmer boleh menggenalkan bug yang ada di dalam software yang nanti')\n",
    "print('Q6 = Programmer tidak boleh mencuri Software khususnya development tools')\n",
    "print('Q7 = Software yang dibuat secara tim dapat diperjual belikan tanpa memberitahukan kepada anggota tim yang lain') \n",
    "print('Q8 = Menurut anda apakah software bajakan baik untuk digunakan?')\n",
    "print('Q9 = Apakah anda pernah mengikuti program sertifikasi untuk software programmer')\n",
    "print('Q10 = Apakah anda setuju jika seorang Software programmer jika memiliki lebih dari satu sertifikat')"
   ]
  },
  {
   "cell_type": "markdown",
   "metadata": {},
   "source": [
    "# 2. Uji Data menggunakan T-test"
   ]
  },
  {
   "cell_type": "code",
   "execution_count": 39,
   "metadata": {},
   "outputs": [],
   "source": [
    "Survdata<-read.csv('data3.csv')"
   ]
  },
  {
   "cell_type": "code",
   "execution_count": 40,
   "metadata": {},
   "outputs": [
    {
     "data": {
      "text/html": [
       "<table>\n",
       "<thead><tr><th scope=col>Q1</th><th scope=col>Q2</th><th scope=col>Q3</th><th scope=col>Q4</th><th scope=col>Q5</th><th scope=col>Q6</th><th scope=col>Q7</th><th scope=col>Q8</th><th scope=col>Q9</th><th scope=col>Q10</th></tr></thead>\n",
       "<tbody>\n",
       "\t<tr><td> 43</td><td>  0</td><td> 32</td><td> 20</td><td> 45</td><td> 22</td><td>121</td><td> 93</td><td>  0</td><td> 18</td></tr>\n",
       "\t<tr><td> 47</td><td>  0</td><td> 68</td><td> 58</td><td> 84</td><td> 46</td><td>197</td><td>206</td><td>  0</td><td> 47</td></tr>\n",
       "\t<tr><td> 81</td><td>  0</td><td>173</td><td>166</td><td>138</td><td> 81</td><td> 77</td><td>101</td><td>  0</td><td>100</td></tr>\n",
       "\t<tr><td>241</td><td>  0</td><td>193</td><td>210</td><td>200</td><td>230</td><td> 75</td><td> 69</td><td>  0</td><td>226</td></tr>\n",
       "\t<tr><td> 90</td><td>  0</td><td> 36</td><td> 48</td><td> 35</td><td>123</td><td> 32</td><td> 33</td><td>  0</td><td>111</td></tr>\n",
       "\t<tr><td>  0</td><td>346</td><td>  0</td><td>  0</td><td>  0</td><td>  0</td><td>  0</td><td>  0</td><td>373</td><td>  0</td></tr>\n",
       "\t<tr><td>  0</td><td> 52</td><td>  0</td><td>  0</td><td>  0</td><td>  0</td><td>  0</td><td>  0</td><td> 41</td><td>  0</td></tr>\n",
       "\t<tr><td>  0</td><td> 57</td><td>  0</td><td>  0</td><td>  0</td><td>  0</td><td>  0</td><td>  0</td><td> 48</td><td>  0</td></tr>\n",
       "\t<tr><td>  0</td><td> 35</td><td>  0</td><td>  0</td><td>  0</td><td>  0</td><td>  0</td><td>  0</td><td> 33</td><td>  0</td></tr>\n",
       "\t<tr><td>  0</td><td> 12</td><td>  0</td><td>  0</td><td>  0</td><td>  0</td><td>  0</td><td>  0</td><td>  7</td><td>  0</td></tr>\n",
       "</tbody>\n",
       "</table>\n"
      ],
      "text/latex": [
       "\\begin{tabular}{r|llllllllll}\n",
       " Q1 & Q2 & Q3 & Q4 & Q5 & Q6 & Q7 & Q8 & Q9 & Q10\\\\\n",
       "\\hline\n",
       "\t  43 &   0 &  32 &  20 &  45 &  22 & 121 &  93 &   0 &  18\\\\\n",
       "\t  47 &   0 &  68 &  58 &  84 &  46 & 197 & 206 &   0 &  47\\\\\n",
       "\t  81 &   0 & 173 & 166 & 138 &  81 &  77 & 101 &   0 & 100\\\\\n",
       "\t 241 &   0 & 193 & 210 & 200 & 230 &  75 &  69 &   0 & 226\\\\\n",
       "\t  90 &   0 &  36 &  48 &  35 & 123 &  32 &  33 &   0 & 111\\\\\n",
       "\t   0 & 346 &   0 &   0 &   0 &   0 &   0 &   0 & 373 &   0\\\\\n",
       "\t   0 &  52 &   0 &   0 &   0 &   0 &   0 &   0 &  41 &   0\\\\\n",
       "\t   0 &  57 &   0 &   0 &   0 &   0 &   0 &   0 &  48 &   0\\\\\n",
       "\t   0 &  35 &   0 &   0 &   0 &   0 &   0 &   0 &  33 &   0\\\\\n",
       "\t   0 &  12 &   0 &   0 &   0 &   0 &   0 &   0 &   7 &   0\\\\\n",
       "\\end{tabular}\n"
      ],
      "text/markdown": [
       "\n",
       "| Q1 | Q2 | Q3 | Q4 | Q5 | Q6 | Q7 | Q8 | Q9 | Q10 |\n",
       "|---|---|---|---|---|---|---|---|---|---|\n",
       "|  43 |   0 |  32 |  20 |  45 |  22 | 121 |  93 |   0 |  18 |\n",
       "|  47 |   0 |  68 |  58 |  84 |  46 | 197 | 206 |   0 |  47 |\n",
       "|  81 |   0 | 173 | 166 | 138 |  81 |  77 | 101 |   0 | 100 |\n",
       "| 241 |   0 | 193 | 210 | 200 | 230 |  75 |  69 |   0 | 226 |\n",
       "|  90 |   0 |  36 |  48 |  35 | 123 |  32 |  33 |   0 | 111 |\n",
       "|   0 | 346 |   0 |   0 |   0 |   0 |   0 |   0 | 373 |   0 |\n",
       "|   0 |  52 |   0 |   0 |   0 |   0 |   0 |   0 |  41 |   0 |\n",
       "|   0 |  57 |   0 |   0 |   0 |   0 |   0 |   0 |  48 |   0 |\n",
       "|   0 |  35 |   0 |   0 |   0 |   0 |   0 |   0 |  33 |   0 |\n",
       "|   0 |  12 |   0 |   0 |   0 |   0 |   0 |   0 |   7 |   0 |\n",
       "\n"
      ],
      "text/plain": [
       "   Q1  Q2  Q3  Q4  Q5  Q6  Q7  Q8  Q9  Q10\n",
       "1   43   0  32  20  45  22 121  93   0  18\n",
       "2   47   0  68  58  84  46 197 206   0  47\n",
       "3   81   0 173 166 138  81  77 101   0 100\n",
       "4  241   0 193 210 200 230  75  69   0 226\n",
       "5   90   0  36  48  35 123  32  33   0 111\n",
       "6    0 346   0   0   0   0   0   0 373   0\n",
       "7    0  52   0   0   0   0   0   0  41   0\n",
       "8    0  57   0   0   0   0   0   0  48   0\n",
       "9    0  35   0   0   0   0   0   0  33   0\n",
       "10   0  12   0   0   0   0   0   0   7   0"
      ]
     },
     "metadata": {},
     "output_type": "display_data"
    }
   ],
   "source": [
    "Survdata"
   ]
  },
  {
   "cell_type": "code",
   "execution_count": 42,
   "metadata": {},
   "outputs": [],
   "source": [
    "Q1=read.delim(\"clipboard\")"
   ]
  },
  {
   "cell_type": "code",
   "execution_count": 43,
   "metadata": {},
   "outputs": [
    {
     "data": {
      "text/plain": [
       "\n",
       "\tOne Sample t-test\n",
       "\n",
       "data:  Q1\n",
       "t = 1.7624, df = 9, p-value = 0.9441\n",
       "alternative hypothesis: true mean is less than 8\n",
       "95 percent confidence interval:\n",
       "     -Inf 94.09258\n",
       "sample estimates:\n",
       "mean of x \n",
       "     50.2 \n"
      ]
     },
     "metadata": {},
     "output_type": "display_data"
    },
    {
     "name": "stdout",
     "output_type": "stream",
     "text": [
      "[1] \"Q1 = Menurut anda seorang Programmer harus menguasai minimal 3 bahasa pemrograman\"\n"
     ]
    }
   ],
   "source": [
    "t.test(Q1, mu=8, alternative='less', conf.level=0.95)\n",
    "print('Q1 = Menurut anda seorang Programmer harus menguasai minimal 3 bahasa pemrograman')"
   ]
  },
  {
   "cell_type": "code",
   "execution_count": 44,
   "metadata": {},
   "outputs": [],
   "source": [
    "Q2=read.delim(\"clipboard\")"
   ]
  },
  {
   "cell_type": "code",
   "execution_count": 45,
   "metadata": {},
   "outputs": [
    {
     "data": {
      "text/plain": [
       "\n",
       "\tOne Sample t-test\n",
       "\n",
       "data:  Q2\n",
       "t = 1.2545, df = 9, p-value = 0.8794\n",
       "alternative hypothesis: true mean is less than 8\n",
       "95 percent confidence interval:\n",
       "     -Inf 111.8626\n",
       "sample estimates:\n",
       "mean of x \n",
       "     50.2 \n"
      ]
     },
     "metadata": {},
     "output_type": "display_data"
    },
    {
     "name": "stdout",
     "output_type": "stream",
     "text": [
      "[1] \"Q2 = Apakah anda pernah mengunakan bahasa python\"\n"
     ]
    }
   ],
   "source": [
    "t.test(Q2, mu=8, alternative='less', conf.level=0.95)\n",
    "print('Q2 = Apakah anda pernah mengunakan bahasa python')"
   ]
  },
  {
   "cell_type": "code",
   "execution_count": 46,
   "metadata": {},
   "outputs": [],
   "source": [
    "Q3=read.delim(\"clipboard\")"
   ]
  },
  {
   "cell_type": "code",
   "execution_count": 47,
   "metadata": {},
   "outputs": [
    {
     "data": {
      "text/plain": [
       "\n",
       "\tOne Sample t-test\n",
       "\n",
       "data:  Q3\n",
       "t = 1.81, df = 9, p-value = 0.9481\n",
       "alternative hypothesis: true mean is less than 8\n",
       "95 percent confidence interval:\n",
       "    -Inf 92.9384\n",
       "sample estimates:\n",
       "mean of x \n",
       "     50.2 \n"
      ]
     },
     "metadata": {},
     "output_type": "display_data"
    },
    {
     "name": "stdout",
     "output_type": "stream",
     "text": [
      "[1] \"Q3 = Bahasa pemrograman python lebih mudah untuk digunakan daripada bahasa pemrograman yang lain\"\n"
     ]
    }
   ],
   "source": [
    "t.test(Q3, mu=8, alternative='less', conf.level=0.95)\n",
    "print('Q3 = Bahasa pemrograman python lebih mudah untuk digunakan daripada bahasa pemrograman yang lain')"
   ]
  },
  {
   "cell_type": "code",
   "execution_count": 48,
   "metadata": {},
   "outputs": [],
   "source": [
    "Q4=read.delim(\"clipboard\")"
   ]
  },
  {
   "cell_type": "code",
   "execution_count": 49,
   "metadata": {},
   "outputs": [
    {
     "data": {
      "text/plain": [
       "\n",
       "\tOne Sample t-test\n",
       "\n",
       "data:  Q4\n",
       "t = 1.7469, df = 9, p-value = 0.9427\n",
       "alternative hypothesis: true mean is less than 8\n",
       "95 percent confidence interval:\n",
       "     -Inf 94.48383\n",
       "sample estimates:\n",
       "mean of x \n",
       "     50.2 \n"
      ]
     },
     "metadata": {},
     "output_type": "display_data"
    },
    {
     "name": "stdout",
     "output_type": "stream",
     "text": [
      "[1] \"Q4 = Menurut anda,apakah Bahasa pemrograman python memiliki readability yang user-friendly daripada bahasa pemrograman java?\"\n"
     ]
    }
   ],
   "source": [
    "t.test(Q4, mu=8, alternative='less', conf.level=0.95)\n",
    "print('Q4 = Menurut anda,apakah Bahasa pemrograman python memiliki readability yang user-friendly daripada bahasa pemrograman java?')"
   ]
  },
  {
   "cell_type": "code",
   "execution_count": 50,
   "metadata": {},
   "outputs": [],
   "source": [
    "Q5=read.delim(\"clipboard\")"
   ]
  },
  {
   "cell_type": "code",
   "execution_count": 51,
   "metadata": {},
   "outputs": [
    {
     "data": {
      "text/plain": [
       "\n",
       "\tOne Sample t-test\n",
       "\n",
       "data:  Q5\n",
       "t = 1.9053, df = 9, p-value = 0.9554\n",
       "alternative hypothesis: true mean is less than 8\n",
       "95 percent confidence interval:\n",
       "    -Inf 90.8005\n",
       "sample estimates:\n",
       "mean of x \n",
       "     50.2 \n"
      ]
     },
     "metadata": {},
     "output_type": "display_data"
    },
    {
     "name": "stdout",
     "output_type": "stream",
     "text": [
      "[1] \"Q5 = Seorang programmer boleh menggenalkan bug yang ada di dalam software yang nantinya programmer mendapat keuntungan dalam membetulkan bug\"\n"
     ]
    }
   ],
   "source": [
    "t.test(Q5, mu=8, alternative='less', conf.level=0.95)\n",
    "print('Q5 = Seorang programmer boleh menggenalkan bug yang ada di dalam software yang nantinya programmer mendapat keuntungan dalam membetulkan bug')"
   ]
  },
  {
   "cell_type": "code",
   "execution_count": 52,
   "metadata": {},
   "outputs": [],
   "source": [
    "Q6=read.delim(\"clipboard\")"
   ]
  },
  {
   "cell_type": "code",
   "execution_count": 53,
   "metadata": {},
   "outputs": [
    {
     "data": {
      "text/plain": [
       "\n",
       "\tOne Sample t-test\n",
       "\n",
       "data:  Q6\n",
       "t = 1.7558, df = 9, p-value = 0.9435\n",
       "alternative hypothesis: true mean is less than 8\n",
       "95 percent confidence interval:\n",
       "     -Inf 94.25814\n",
       "sample estimates:\n",
       "mean of x \n",
       "     50.2 \n"
      ]
     },
     "metadata": {},
     "output_type": "display_data"
    },
    {
     "name": "stdout",
     "output_type": "stream",
     "text": [
      "[1] \"Q6 = Programmer tidak boleh mencuri Software khususnya development tools\"\n"
     ]
    }
   ],
   "source": [
    "t.test(Q6, mu=8, alternative='less', conf.level=0.95)\n",
    "\n",
    "print('Q6 = Programmer tidak boleh mencuri Software khususnya development tools')"
   ]
  },
  {
   "cell_type": "code",
   "execution_count": 54,
   "metadata": {},
   "outputs": [],
   "source": [
    "Q7=read.delim(\"clipboard\")"
   ]
  },
  {
   "cell_type": "code",
   "execution_count": 55,
   "metadata": {},
   "outputs": [
    {
     "data": {
      "text/plain": [
       "\n",
       "\tOne Sample t-test\n",
       "\n",
       "data:  Q7\n",
       "t = 1.9813, df = 9, p-value = 0.9606\n",
       "alternative hypothesis: true mean is less than 8\n",
       "95 percent confidence interval:\n",
       "     -Inf 89.24315\n",
       "sample estimates:\n",
       "mean of x \n",
       "     50.2 \n"
      ]
     },
     "metadata": {},
     "output_type": "display_data"
    },
    {
     "name": "stdout",
     "output_type": "stream",
     "text": [
      "[1] \"Q7 = Software yang dibuat secara tim dapat diperjual belikan tanpa memberitahukan kepada tim sebelumnya\"\n"
     ]
    }
   ],
   "source": [
    "t.test(Q7, mu=8, alternative='less', conf.level=0.95)\n",
    "print('Q7 = Software yang dibuat secara tim dapat diperjual belikan tanpa memberitahukan kepada tim sebelumnya')"
   ]
  },
  {
   "cell_type": "code",
   "execution_count": 56,
   "metadata": {},
   "outputs": [],
   "source": [
    "Q8=read.delim(\"clipboard\")"
   ]
  },
  {
   "cell_type": "code",
   "execution_count": 57,
   "metadata": {},
   "outputs": [
    {
     "data": {
      "text/plain": [
       "\n",
       "\tOne Sample t-test\n",
       "\n",
       "data:  Q8\n",
       "t = 1.955, df = 9, p-value = 0.9588\n",
       "alternative hypothesis: true mean is less than 8\n",
       "95 percent confidence interval:\n",
       "     -Inf 89.76939\n",
       "sample estimates:\n",
       "mean of x \n",
       "     50.2 \n"
      ]
     },
     "metadata": {},
     "output_type": "display_data"
    },
    {
     "name": "stdout",
     "output_type": "stream",
     "text": [
      "[1] \"Q8 = Menurut anda apakah software bajakan baik untuk digunakan?\"\n"
     ]
    }
   ],
   "source": [
    "t.test(Q8, mu=8, alternative='less', conf.level=0.95)\n",
    "print('Q8 = Menurut anda apakah software bajakan baik untuk digunakan?')"
   ]
  },
  {
   "cell_type": "code",
   "execution_count": 58,
   "metadata": {},
   "outputs": [],
   "source": [
    "Q9=read.delim(\"clipboard\")"
   ]
  },
  {
   "cell_type": "code",
   "execution_count": 59,
   "metadata": {},
   "outputs": [
    {
     "data": {
      "text/plain": [
       "\n",
       "\tOne Sample t-test\n",
       "\n",
       "data:  Q9\n",
       "t = 1.1603, df = 9, p-value = 0.8621\n",
       "alternative hypothesis: true mean is less than 8\n",
       "95 percent confidence interval:\n",
       "     -Inf 116.8708\n",
       "sample estimates:\n",
       "mean of x \n",
       "     50.2 \n"
      ]
     },
     "metadata": {},
     "output_type": "display_data"
    },
    {
     "name": "stdout",
     "output_type": "stream",
     "text": [
      "[1] \"Q9 = Apakah anda pernah mengikuti program sertifikasi untuk software programmer\"\n"
     ]
    }
   ],
   "source": [
    "t.test(Q9, mu=8, alternative='less', conf.level=0.95)\n",
    "print('Q9 = Apakah anda pernah mengikuti program sertifikasi untuk software programmer')"
   ]
  },
  {
   "cell_type": "code",
   "execution_count": 60,
   "metadata": {},
   "outputs": [],
   "source": [
    "Q10=read.delim(\"clipboard\")"
   ]
  },
  {
   "cell_type": "code",
   "execution_count": 61,
   "metadata": {},
   "outputs": [
    {
     "data": {
      "text/plain": [
       "\n",
       "\tOne Sample t-test\n",
       "\n",
       "data:  Q10\n",
       "t = 1.7775, df = 9, p-value = 0.9454\n",
       "alternative hypothesis: true mean is less than 8\n",
       "95 percent confidence interval:\n",
       "     -Inf 93.72098\n",
       "sample estimates:\n",
       "mean of x \n",
       "     50.2 \n"
      ]
     },
     "metadata": {},
     "output_type": "display_data"
    },
    {
     "name": "stdout",
     "output_type": "stream",
     "text": [
      "[1] \"Q10 = Apakah anda setuju jika seorang Software programmer jika memiliki lebih dari satu sertifikasi maka mendapatkan gaji yang lebih besar\"\n"
     ]
    }
   ],
   "source": [
    "t.test(Q10, mu=8, alternative='less', conf.level=0.95)\n",
    "print('Q10 = Apakah anda setuju jika seorang Software programmer jika memiliki lebih dari satu sertifikasi maka mendapatkan gaji yang lebih besar')"
   ]
  },
  {
   "cell_type": "markdown",
   "metadata": {},
   "source": [
    "# 3. Uji data menggunakan Principal Component Analysis"
   ]
  },
  {
   "cell_type": "code",
   "execution_count": 72,
   "metadata": {},
   "outputs": [],
   "source": [
    "Survdata<-read.csv('data2.csv')"
   ]
  },
  {
   "cell_type": "code",
   "execution_count": 73,
   "metadata": {},
   "outputs": [
    {
     "data": {
      "text/html": [
       "<table>\n",
       "<thead><tr><th scope=col>X</th><th scope=col>Q1</th><th scope=col>Q2</th><th scope=col>Q3</th><th scope=col>Q4</th><th scope=col>Q5</th><th scope=col>Q6</th><th scope=col>Q7</th><th scope=col>Q8</th><th scope=col>Q9</th><th scope=col>Q10</th></tr></thead>\n",
       "<tbody>\n",
       "\t<tr><td>Sangat Tidak Setuju</td><td> 43                </td><td>  0                </td><td> 32                </td><td> 20                </td><td> 45                </td><td> 22                </td><td>121                </td><td> 93                </td><td>  0                </td><td> 18                </td></tr>\n",
       "\t<tr><td>Tidak Setuju       </td><td> 47                </td><td>  0                </td><td> 68                </td><td> 58                </td><td> 84                </td><td> 46                </td><td>197                </td><td>206                </td><td>  0                </td><td> 47                </td></tr>\n",
       "\t<tr><td>Ragu Ragu          </td><td> 81                </td><td>  0                </td><td>173                </td><td>166                </td><td>138                </td><td> 81                </td><td> 77                </td><td>101                </td><td>  0                </td><td>100                </td></tr>\n",
       "\t<tr><td>Setuju             </td><td>241                </td><td>  0                </td><td>193                </td><td>210                </td><td>200                </td><td>230                </td><td> 75                </td><td> 69                </td><td>  0                </td><td>226                </td></tr>\n",
       "\t<tr><td>Sangat Setuju      </td><td> 90                </td><td>  0                </td><td> 36                </td><td> 48                </td><td> 35                </td><td>123                </td><td> 32                </td><td> 33                </td><td>  0                </td><td>111                </td></tr>\n",
       "\t<tr><td>Tidak Pernah       </td><td>  0                </td><td>346                </td><td>  0                </td><td>  0                </td><td>  0                </td><td>  0                </td><td>  0                </td><td>  0                </td><td>373                </td><td>  0                </td></tr>\n",
       "\t<tr><td>Sekali             </td><td>  0                </td><td> 52                </td><td>  0                </td><td>  0                </td><td>  0                </td><td>  0                </td><td>  0                </td><td>  0                </td><td> 41                </td><td>  0                </td></tr>\n",
       "\t<tr><td>Jarang             </td><td>  0                </td><td> 57                </td><td>  0                </td><td>  0                </td><td>  0                </td><td>  0                </td><td>  0                </td><td>  0                </td><td> 48                </td><td>  0                </td></tr>\n",
       "\t<tr><td>Sering             </td><td>  0                </td><td> 35                </td><td>  0                </td><td>  0                </td><td>  0                </td><td>  0                </td><td>  0                </td><td>  0                </td><td> 33                </td><td>  0                </td></tr>\n",
       "\t<tr><td>Sangat Sering      </td><td>  0                </td><td> 12                </td><td>  0                </td><td>  0                </td><td>  0                </td><td>  0                </td><td>  0                </td><td>  0                </td><td>  7                </td><td>  0                </td></tr>\n",
       "</tbody>\n",
       "</table>\n"
      ],
      "text/latex": [
       "\\begin{tabular}{r|lllllllllll}\n",
       " X & Q1 & Q2 & Q3 & Q4 & Q5 & Q6 & Q7 & Q8 & Q9 & Q10\\\\\n",
       "\\hline\n",
       "\t Sangat Tidak Setuju &  43                 &   0                 &  32                 &  20                 &  45                 &  22                 & 121                 &  93                 &   0                 &  18                \\\\\n",
       "\t Tidak Setuju        &  47                 &   0                 &  68                 &  58                 &  84                 &  46                 & 197                 & 206                 &   0                 &  47                \\\\\n",
       "\t Ragu Ragu           &  81                 &   0                 & 173                 & 166                 & 138                 &  81                 &  77                 & 101                 &   0                 & 100                \\\\\n",
       "\t Setuju              & 241                 &   0                 & 193                 & 210                 & 200                 & 230                 &  75                 &  69                 &   0                 & 226                \\\\\n",
       "\t Sangat Setuju       &  90                 &   0                 &  36                 &  48                 &  35                 & 123                 &  32                 &  33                 &   0                 & 111                \\\\\n",
       "\t Tidak Pernah        &   0                 & 346                 &   0                 &   0                 &   0                 &   0                 &   0                 &   0                 & 373                 &   0                \\\\\n",
       "\t Sekali              &   0                 &  52                 &   0                 &   0                 &   0                 &   0                 &   0                 &   0                 &  41                 &   0                \\\\\n",
       "\t Jarang              &   0                 &  57                 &   0                 &   0                 &   0                 &   0                 &   0                 &   0                 &  48                 &   0                \\\\\n",
       "\t Sering              &   0                 &  35                 &   0                 &   0                 &   0                 &   0                 &   0                 &   0                 &  33                 &   0                \\\\\n",
       "\t Sangat Sering       &   0                 &  12                 &   0                 &   0                 &   0                 &   0                 &   0                 &   0                 &   7                 &   0                \\\\\n",
       "\\end{tabular}\n"
      ],
      "text/markdown": [
       "\n",
       "| X | Q1 | Q2 | Q3 | Q4 | Q5 | Q6 | Q7 | Q8 | Q9 | Q10 |\n",
       "|---|---|---|---|---|---|---|---|---|---|---|\n",
       "| Sangat Tidak Setuju |  43                 |   0                 |  32                 |  20                 |  45                 |  22                 | 121                 |  93                 |   0                 |  18                 |\n",
       "| Tidak Setuju        |  47                 |   0                 |  68                 |  58                 |  84                 |  46                 | 197                 | 206                 |   0                 |  47                 |\n",
       "| Ragu Ragu           |  81                 |   0                 | 173                 | 166                 | 138                 |  81                 |  77                 | 101                 |   0                 | 100                 |\n",
       "| Setuju              | 241                 |   0                 | 193                 | 210                 | 200                 | 230                 |  75                 |  69                 |   0                 | 226                 |\n",
       "| Sangat Setuju       |  90                 |   0                 |  36                 |  48                 |  35                 | 123                 |  32                 |  33                 |   0                 | 111                 |\n",
       "| Tidak Pernah        |   0                 | 346                 |   0                 |   0                 |   0                 |   0                 |   0                 |   0                 | 373                 |   0                 |\n",
       "| Sekali              |   0                 |  52                 |   0                 |   0                 |   0                 |   0                 |   0                 |   0                 |  41                 |   0                 |\n",
       "| Jarang              |   0                 |  57                 |   0                 |   0                 |   0                 |   0                 |   0                 |   0                 |  48                 |   0                 |\n",
       "| Sering              |   0                 |  35                 |   0                 |   0                 |   0                 |   0                 |   0                 |   0                 |  33                 |   0                 |\n",
       "| Sangat Sering       |   0                 |  12                 |   0                 |   0                 |   0                 |   0                 |   0                 |   0                 |   7                 |   0                 |\n",
       "\n"
      ],
      "text/plain": [
       "   X                   Q1  Q2  Q3  Q4  Q5  Q6  Q7  Q8  Q9  Q10\n",
       "1  Sangat Tidak Setuju  43   0  32  20  45  22 121  93   0  18\n",
       "2  Tidak Setuju         47   0  68  58  84  46 197 206   0  47\n",
       "3  Ragu Ragu            81   0 173 166 138  81  77 101   0 100\n",
       "4  Setuju              241   0 193 210 200 230  75  69   0 226\n",
       "5  Sangat Setuju        90   0  36  48  35 123  32  33   0 111\n",
       "6  Tidak Pernah          0 346   0   0   0   0   0   0 373   0\n",
       "7  Sekali                0  52   0   0   0   0   0   0  41   0\n",
       "8  Jarang                0  57   0   0   0   0   0   0  48   0\n",
       "9  Sering                0  35   0   0   0   0   0   0  33   0\n",
       "10 Sangat Sering         0  12   0   0   0   0   0   0   7   0"
      ]
     },
     "metadata": {},
     "output_type": "display_data"
    }
   ],
   "source": [
    "Survdata"
   ]
  },
  {
   "cell_type": "code",
   "execution_count": 74,
   "metadata": {},
   "outputs": [
    {
     "name": "stderr",
     "output_type": "stream",
     "text": [
      "The following objects are masked _by_ .GlobalEnv:\n",
      "\n",
      "    Q1, Q10, Q2, Q3, Q4, Q5, Q6, Q7, Q8, Q9\n",
      "\n",
      "The following objects are masked from Survdata (pos = 3):\n",
      "\n",
      "    Q1, Q10, Q2, Q3, Q4, Q5, Q6, Q7, Q8, Q9\n",
      "\n",
      "The following objects are masked from Survdata (pos = 4):\n",
      "\n",
      "    Q1, Q10, Q2, Q3, Q4, Q5, Q6, Q7, Q8, Q9, X\n",
      "\n",
      "The following objects are masked from Survdata (pos = 5):\n",
      "\n",
      "    Q1, Q10, Q2, Q3, Q4, Q5, Q6, Q7, Q8, Q9, X\n",
      "\n",
      "The following objects are masked from Survdata (pos = 6):\n",
      "\n",
      "    Q1, Q10, Q2, Q3, Q4, Q5, Q6, Q7, Q8, Q9, X\n",
      "\n"
     ]
    }
   ],
   "source": [
    "attach(Survdata)"
   ]
  },
  {
   "cell_type": "code",
   "execution_count": 86,
   "metadata": {},
   "outputs": [],
   "source": [
    "# efine Variables\n",
    "x <- cbind(Q1,Q2,Q3,Q4,Q5,Q6,Q7,Q8,Q9,Q10)"
   ]
  },
  {
   "cell_type": "code",
   "execution_count": 85,
   "metadata": {},
   "outputs": [
    {
     "data": {
      "text/plain": [
       "       Q1              Q2               Q3              Q4       \n",
       " Min.   :  0.0   Min.   :  0.00   Min.   :  0.0   Min.   :  0.0  \n",
       " 1st Qu.:  0.0   1st Qu.:  0.00   1st Qu.:  0.0   1st Qu.:  0.0  \n",
       " Median : 21.5   Median :  6.00   Median : 16.0   Median : 10.0  \n",
       " Mean   : 50.2   Mean   : 50.20   Mean   : 50.2   Mean   : 50.2  \n",
       " 3rd Qu.: 72.5   3rd Qu.: 47.75   3rd Qu.: 60.0   3rd Qu.: 55.5  \n",
       " Max.   :241.0   Max.   :346.00   Max.   :193.0   Max.   :210.0  \n",
       "       Q5               Q6               Q7              Q8       \n",
       " Min.   :  0.00   Min.   :  0.00   Min.   :  0.0   Min.   :  0.0  \n",
       " 1st Qu.:  0.00   1st Qu.:  0.00   1st Qu.:  0.0   1st Qu.:  0.0  \n",
       " Median : 17.50   Median : 11.00   Median : 16.0   Median : 16.5  \n",
       " Mean   : 50.20   Mean   : 50.20   Mean   : 50.2   Mean   : 50.2  \n",
       " 3rd Qu.: 74.25   3rd Qu.: 72.25   3rd Qu.: 76.5   3rd Qu.: 87.0  \n",
       " Max.   :200.00   Max.   :230.00   Max.   :197.0   Max.   :206.0  \n",
       "       Q9             Q10        \n",
       " Min.   :  0.0   Min.   :  0.00  \n",
       " 1st Qu.:  0.0   1st Qu.:  0.00  \n",
       " Median :  3.5   Median :  9.00  \n",
       " Mean   : 50.2   Mean   : 50.20  \n",
       " 3rd Qu.: 39.0   3rd Qu.: 86.75  \n",
       " Max.   :373.0   Max.   :226.00  "
      ]
     },
     "metadata": {},
     "output_type": "display_data"
    },
    {
     "data": {
      "text/html": [
       "<table>\n",
       "<thead><tr><th></th><th scope=col>Q1</th><th scope=col>Q2</th><th scope=col>Q3</th><th scope=col>Q4</th><th scope=col>Q5</th><th scope=col>Q6</th><th scope=col>Q7</th><th scope=col>Q8</th><th scope=col>Q9</th><th scope=col>Q10</th></tr></thead>\n",
       "<tbody>\n",
       "\t<tr><th scope=row>Q1</th><td> 1.0000000</td><td>-0.3476404</td><td> 0.8585834</td><td> 0.8982329</td><td> 0.9053234</td><td> 0.9840594</td><td> 0.3584766</td><td> 0.3495602</td><td>-0.3215264</td><td> 0.9838916</td></tr>\n",
       "\t<tr><th scope=row>Q2</th><td>-0.3476404</td><td> 1.0000000</td><td>-0.3570286</td><td>-0.3445689</td><td>-0.3758287</td><td>-0.3463340</td><td>-0.3908197</td><td>-0.3856221</td><td> 0.9986912</td><td>-0.3506087</td></tr>\n",
       "\t<tr><th scope=row>Q3</th><td> 0.8585834</td><td>-0.3570286</td><td> 1.0000000</td><td> 0.9934699</td><td> 0.9830274</td><td> 0.8221441</td><td> 0.4702346</td><td> 0.5246068</td><td>-0.3302094</td><td> 0.8728999</td></tr>\n",
       "\t<tr><th scope=row>Q4</th><td> 0.8982329</td><td>-0.3445689</td><td> 0.9934699</td><td> 1.0000000</td><td> 0.9793310</td><td> 0.8718170</td><td> 0.4041133</td><td> 0.4569935</td><td>-0.3186857</td><td> 0.9158212</td></tr>\n",
       "\t<tr><th scope=row>Q5</th><td> 0.9053234</td><td>-0.3758287</td><td> 0.9830274</td><td> 0.9793310</td><td> 1.0000000</td><td> 0.8586314</td><td> 0.5544218</td><td> 0.5852326</td><td>-0.3475973</td><td> 0.8968253</td></tr>\n",
       "\t<tr><th scope=row>Q6</th><td> 0.9840594</td><td>-0.3463340</td><td> 0.8221441</td><td> 0.8718170</td><td> 0.8586314</td><td> 1.0000000</td><td> 0.3027145</td><td> 0.3090757</td><td>-0.3203182</td><td> 0.9948373</td></tr>\n",
       "\t<tr><th scope=row>Q7</th><td> 0.3584766</td><td>-0.3908197</td><td> 0.4702346</td><td> 0.4041133</td><td> 0.5544218</td><td> 0.3027145</td><td> 1.0000000</td><td> 0.9822298</td><td>-0.3614622</td><td> 0.3172615</td></tr>\n",
       "\t<tr><th scope=row>Q8</th><td> 0.3495602</td><td>-0.3856221</td><td> 0.5246068</td><td> 0.4569935</td><td> 0.5852326</td><td> 0.3090757</td><td> 0.9822298</td><td> 1.0000000</td><td>-0.3566551</td><td> 0.3363276</td></tr>\n",
       "\t<tr><th scope=row>Q9</th><td>-0.3215264</td><td> 0.9986912</td><td>-0.3302094</td><td>-0.3186857</td><td>-0.3475973</td><td>-0.3203182</td><td>-0.3614622</td><td>-0.3566551</td><td> 1.0000000</td><td>-0.3242717</td></tr>\n",
       "\t<tr><th scope=row>Q10</th><td> 0.9838916</td><td>-0.3506087</td><td> 0.8728999</td><td> 0.9158212</td><td> 0.8968253</td><td> 0.9948373</td><td> 0.3172615</td><td> 0.3363276</td><td>-0.3242717</td><td> 1.0000000</td></tr>\n",
       "</tbody>\n",
       "</table>\n"
      ],
      "text/latex": [
       "\\begin{tabular}{r|llllllllll}\n",
       "  & Q1 & Q2 & Q3 & Q4 & Q5 & Q6 & Q7 & Q8 & Q9 & Q10\\\\\n",
       "\\hline\n",
       "\tQ1 &  1.0000000 & -0.3476404 &  0.8585834 &  0.8982329 &  0.9053234 &  0.9840594 &  0.3584766 &  0.3495602 & -0.3215264 &  0.9838916\\\\\n",
       "\tQ2 & -0.3476404 &  1.0000000 & -0.3570286 & -0.3445689 & -0.3758287 & -0.3463340 & -0.3908197 & -0.3856221 &  0.9986912 & -0.3506087\\\\\n",
       "\tQ3 &  0.8585834 & -0.3570286 &  1.0000000 &  0.9934699 &  0.9830274 &  0.8221441 &  0.4702346 &  0.5246068 & -0.3302094 &  0.8728999\\\\\n",
       "\tQ4 &  0.8982329 & -0.3445689 &  0.9934699 &  1.0000000 &  0.9793310 &  0.8718170 &  0.4041133 &  0.4569935 & -0.3186857 &  0.9158212\\\\\n",
       "\tQ5 &  0.9053234 & -0.3758287 &  0.9830274 &  0.9793310 &  1.0000000 &  0.8586314 &  0.5544218 &  0.5852326 & -0.3475973 &  0.8968253\\\\\n",
       "\tQ6 &  0.9840594 & -0.3463340 &  0.8221441 &  0.8718170 &  0.8586314 &  1.0000000 &  0.3027145 &  0.3090757 & -0.3203182 &  0.9948373\\\\\n",
       "\tQ7 &  0.3584766 & -0.3908197 &  0.4702346 &  0.4041133 &  0.5544218 &  0.3027145 &  1.0000000 &  0.9822298 & -0.3614622 &  0.3172615\\\\\n",
       "\tQ8 &  0.3495602 & -0.3856221 &  0.5246068 &  0.4569935 &  0.5852326 &  0.3090757 &  0.9822298 &  1.0000000 & -0.3566551 &  0.3363276\\\\\n",
       "\tQ9 & -0.3215264 &  0.9986912 & -0.3302094 & -0.3186857 & -0.3475973 & -0.3203182 & -0.3614622 & -0.3566551 &  1.0000000 & -0.3242717\\\\\n",
       "\tQ10 &  0.9838916 & -0.3506087 &  0.8728999 &  0.9158212 &  0.8968253 &  0.9948373 &  0.3172615 &  0.3363276 & -0.3242717 &  1.0000000\\\\\n",
       "\\end{tabular}\n"
      ],
      "text/markdown": [
       "\n",
       "| <!--/--> | Q1 | Q2 | Q3 | Q4 | Q5 | Q6 | Q7 | Q8 | Q9 | Q10 |\n",
       "|---|---|---|---|---|---|---|---|---|---|---|\n",
       "| Q1 |  1.0000000 | -0.3476404 |  0.8585834 |  0.8982329 |  0.9053234 |  0.9840594 |  0.3584766 |  0.3495602 | -0.3215264 |  0.9838916 |\n",
       "| Q2 | -0.3476404 |  1.0000000 | -0.3570286 | -0.3445689 | -0.3758287 | -0.3463340 | -0.3908197 | -0.3856221 |  0.9986912 | -0.3506087 |\n",
       "| Q3 |  0.8585834 | -0.3570286 |  1.0000000 |  0.9934699 |  0.9830274 |  0.8221441 |  0.4702346 |  0.5246068 | -0.3302094 |  0.8728999 |\n",
       "| Q4 |  0.8982329 | -0.3445689 |  0.9934699 |  1.0000000 |  0.9793310 |  0.8718170 |  0.4041133 |  0.4569935 | -0.3186857 |  0.9158212 |\n",
       "| Q5 |  0.9053234 | -0.3758287 |  0.9830274 |  0.9793310 |  1.0000000 |  0.8586314 |  0.5544218 |  0.5852326 | -0.3475973 |  0.8968253 |\n",
       "| Q6 |  0.9840594 | -0.3463340 |  0.8221441 |  0.8718170 |  0.8586314 |  1.0000000 |  0.3027145 |  0.3090757 | -0.3203182 |  0.9948373 |\n",
       "| Q7 |  0.3584766 | -0.3908197 |  0.4702346 |  0.4041133 |  0.5544218 |  0.3027145 |  1.0000000 |  0.9822298 | -0.3614622 |  0.3172615 |\n",
       "| Q8 |  0.3495602 | -0.3856221 |  0.5246068 |  0.4569935 |  0.5852326 |  0.3090757 |  0.9822298 |  1.0000000 | -0.3566551 |  0.3363276 |\n",
       "| Q9 | -0.3215264 |  0.9986912 | -0.3302094 | -0.3186857 | -0.3475973 | -0.3203182 | -0.3614622 | -0.3566551 |  1.0000000 | -0.3242717 |\n",
       "| Q10 |  0.9838916 | -0.3506087 |  0.8728999 |  0.9158212 |  0.8968253 |  0.9948373 |  0.3172615 |  0.3363276 | -0.3242717 |  1.0000000 |\n",
       "\n"
      ],
      "text/plain": [
       "    Q1         Q2         Q3         Q4         Q5         Q6        \n",
       "Q1   1.0000000 -0.3476404  0.8585834  0.8982329  0.9053234  0.9840594\n",
       "Q2  -0.3476404  1.0000000 -0.3570286 -0.3445689 -0.3758287 -0.3463340\n",
       "Q3   0.8585834 -0.3570286  1.0000000  0.9934699  0.9830274  0.8221441\n",
       "Q4   0.8982329 -0.3445689  0.9934699  1.0000000  0.9793310  0.8718170\n",
       "Q5   0.9053234 -0.3758287  0.9830274  0.9793310  1.0000000  0.8586314\n",
       "Q6   0.9840594 -0.3463340  0.8221441  0.8718170  0.8586314  1.0000000\n",
       "Q7   0.3584766 -0.3908197  0.4702346  0.4041133  0.5544218  0.3027145\n",
       "Q8   0.3495602 -0.3856221  0.5246068  0.4569935  0.5852326  0.3090757\n",
       "Q9  -0.3215264  0.9986912 -0.3302094 -0.3186857 -0.3475973 -0.3203182\n",
       "Q10  0.9838916 -0.3506087  0.8728999  0.9158212  0.8968253  0.9948373\n",
       "    Q7         Q8         Q9         Q10       \n",
       "Q1   0.3584766  0.3495602 -0.3215264  0.9838916\n",
       "Q2  -0.3908197 -0.3856221  0.9986912 -0.3506087\n",
       "Q3   0.4702346  0.5246068 -0.3302094  0.8728999\n",
       "Q4   0.4041133  0.4569935 -0.3186857  0.9158212\n",
       "Q5   0.5544218  0.5852326 -0.3475973  0.8968253\n",
       "Q6   0.3027145  0.3090757 -0.3203182  0.9948373\n",
       "Q7   1.0000000  0.9822298 -0.3614622  0.3172615\n",
       "Q8   0.9822298  1.0000000 -0.3566551  0.3363276\n",
       "Q9  -0.3614622 -0.3566551  1.0000000 -0.3242717\n",
       "Q10  0.3172615  0.3363276 -0.3242717  1.0000000"
      ]
     },
     "metadata": {},
     "output_type": "display_data"
    }
   ],
   "source": [
    "# Descriptive statistics\n",
    "summary(x)\n",
    "cor(x)"
   ]
  },
  {
   "cell_type": "code",
   "execution_count": 77,
   "metadata": {},
   "outputs": [],
   "source": [
    "# Principal Component Analysis\n",
    "pcal <-princomp(x, score=TRUE, cor=TRUE)"
   ]
  },
  {
   "cell_type": "code",
   "execution_count": 78,
   "metadata": {},
   "outputs": [
    {
     "data": {
      "text/plain": [
       "\n",
       "Loadings:\n",
       "    Comp.1 Comp.2 Comp.3 Comp.4 Comp.5 Comp.6 Comp.7 Comp.8 Comp.9 Comp.10\n",
       "Q1   0.363  0.215         0.351  0.543  0.115                0.336  0.519 \n",
       "Q2  -0.210  0.488 -0.456                0.169 -0.693                      \n",
       "Q3   0.369  0.122        -0.522        -0.461 -0.116  0.395  0.428        \n",
       "Q4   0.370  0.173        -0.415 -0.152               -0.698 -0.261  0.286 \n",
       "Q5   0.380        -0.106 -0.267  0.399  0.510  0.137  0.172 -0.245 -0.486 \n",
       "Q6   0.353  0.231  0.132  0.459 -0.295               -0.309  0.316 -0.553 \n",
       "Q7   0.231 -0.405 -0.502  0.254  0.321 -0.494 -0.130 -0.118 -0.273 -0.122 \n",
       "Q8   0.240 -0.390 -0.510        -0.437  0.447                0.282  0.211 \n",
       "Q9  -0.199  0.491 -0.476               -0.179  0.677                      \n",
       "Q10  0.363  0.229  0.112  0.281 -0.370                0.462 -0.568  0.214 \n",
       "\n",
       "               Comp.1 Comp.2 Comp.3 Comp.4 Comp.5 Comp.6 Comp.7 Comp.8 Comp.9\n",
       "SS loadings       1.0    1.0    1.0    1.0    1.0    1.0    1.0    1.0    1.0\n",
       "Proportion Var    0.1    0.1    0.1    0.1    0.1    0.1    0.1    0.1    0.1\n",
       "Cumulative Var    0.1    0.2    0.3    0.4    0.5    0.6    0.7    0.8    0.9\n",
       "               Comp.10\n",
       "SS loadings        1.0\n",
       "Proportion Var     0.1\n",
       "Cumulative Var     1.0"
      ]
     },
     "metadata": {},
     "output_type": "display_data"
    }
   ],
   "source": [
    "# Loading of Principal Components\n",
    "loadings(pcal)"
   ]
  },
  {
   "cell_type": "markdown",
   "metadata": {},
   "source": [
    " # Scree plot of eigenvalues"
   ]
  },
  {
   "cell_type": "code",
   "execution_count": 84,
   "metadata": {},
   "outputs": [
    {
     "data": {
      "image/png": "[encoded data removed]",
      "text/plain": [
       "Plot with title \"pcal\""
      ]
     },
     "metadata": {},
     "output_type": "display_data"
    },
    {
     "data": {
      "image/png": "[encoded data removed]",
      "text/plain": [
       "Plot with title \"scree plot\""
      ]
     },
     "metadata": {},
     "output_type": "display_data"
    }
   ],
   "source": [
    "plot(pcal)\n",
    "screeplot(pcal, type=\"line\", main=\"scree plot\")"
   ]
  },
  {
   "cell_type": "markdown",
   "metadata": {},
   "source": [
    " # Biplot of score variables"
   ]
  },
  {
   "cell_type": "code",
   "execution_count": 83,
   "metadata": {},
   "outputs": [
    {
     "data": {
      "image/png": "[encoded data removed]",
      "text/plain": [
       "plot without title"
      ]
     },
     "metadata": {},
     "output_type": "display_data"
    }
   ],
   "source": [
    "biplot(pcal)"
   ]
  },
  {
   "cell_type": "markdown",
   "metadata": {},
   "source": [
    " # Scores of the components"
   ]
  },
  {
   "cell_type": "code",
   "execution_count": 82,
   "metadata": {},
   "outputs": [
    {
     "data": {
      "text/html": [
       "<table>\n",
       "<thead><tr><th scope=col>Comp.1</th><th scope=col>Comp.2</th><th scope=col>Comp.3</th><th scope=col>Comp.4</th><th scope=col>Comp.5</th><th scope=col>Comp.6</th><th scope=col>Comp.7</th><th scope=col>Comp.8</th><th scope=col>Comp.9</th><th scope=col>Comp.10</th></tr></thead>\n",
       "<tbody>\n",
       "\t<tr><td>-0.008252091 </td><td>-1.50076497  </td><td>-0.5260335   </td><td> 0.26893920  </td><td> 0.35164933  </td><td>-0.11624646  </td><td>-0.003097217 </td><td> 4.496403e-15</td><td>-6.106227e-16</td><td> 1.082467e-15</td></tr>\n",
       "\t<tr><td> 1.577081476 </td><td>-2.27216265  </td><td>-2.0239341   </td><td> 0.31466374  </td><td>-0.12865519  </td><td> 0.08074023  </td><td> 0.002159373 </td><td>-3.212708e-15</td><td>-4.440892e-16</td><td>-2.109424e-15</td></tr>\n",
       "\t<tr><td> 2.782188928 </td><td> 0.01981885  </td><td>-0.2788901   </td><td>-1.27574856  </td><td>-0.19295853  </td><td>-0.06080427  </td><td>-0.001684891 </td><td> 1.720846e-15</td><td> 2.498002e-16</td><td> 8.881784e-16</td></tr>\n",
       "\t<tr><td> 5.521374162 </td><td> 1.81311979  </td><td> 0.5282973   </td><td> 0.26557565  </td><td> 0.21718951  </td><td> 0.05216423  </td><td> 0.001469379 </td><td>-1.776357e-15</td><td>-2.220446e-16</td><td>-7.771561e-16</td></tr>\n",
       "\t<tr><td> 0.760921709 </td><td> 0.24672550  </td><td> 1.0408447   </td><td> 0.95201296  </td><td>-0.35514646  </td><td>-0.06834737  </td><td>-0.001962358 </td><td> 1.942890e-15</td><td> 6.661338e-16</td><td> 7.771561e-16</td></tr>\n",
       "\t<tr><td>-3.134786469 </td><td> 2.75254294  </td><td>-2.0459048   </td><td> 0.09302866  </td><td>-0.01237577  </td><td>-0.01332841  </td><td> 0.004693682 </td><td>-6.106227e-16</td><td> 1.221245e-15</td><td>-3.885781e-16</td></tr>\n",
       "\t<tr><td>-1.917638912 </td><td>-0.16258964  </td><td> 0.7295488   </td><td>-0.14670090  </td><td> 0.02940607  </td><td> 0.03886989  </td><td>-0.035411821 </td><td> 5.107026e-15</td><td>-4.773959e-15</td><td> 1.157408e-14</td></tr>\n",
       "\t<tr><td>-1.940806932 </td><td>-0.10692438  </td><td> 0.6764422   </td><td>-0.14201134  </td><td> 0.02842629  </td><td> 0.03576276  </td><td>-0.026331304 </td><td> 3.663736e-15</td><td>-3.552714e-15</td><td> 8.631984e-15</td></tr>\n",
       "\t<tr><td>-1.867675255 </td><td>-0.28079425  </td><td> 0.8411918   </td><td>-0.15549637  </td><td> 0.02959535  </td><td> 0.02353062  </td><td> 0.031735738 </td><td>-5.939693e-15</td><td> 3.885781e-15</td><td>-1.035283e-14</td></tr>\n",
       "\t<tr><td>-1.772406616 </td><td>-0.50897121  </td><td> 1.0584378   </td><td>-0.17426303  </td><td> 0.03286941  </td><td> 0.02765877  </td><td> 0.028429419 </td><td>-5.384582e-15</td><td> 3.441691e-15</td><td>-9.381385e-15</td></tr>\n",
       "</tbody>\n",
       "</table>\n"
      ],
      "text/latex": [
       "\\begin{tabular}{llllllllll}\n",
       " Comp.1 & Comp.2 & Comp.3 & Comp.4 & Comp.5 & Comp.6 & Comp.7 & Comp.8 & Comp.9 & Comp.10\\\\\n",
       "\\hline\n",
       "\t -0.008252091  & -1.50076497   & -0.5260335    &  0.26893920   &  0.35164933   & -0.11624646   & -0.003097217  &  4.496403e-15 & -6.106227e-16 &  1.082467e-15\\\\\n",
       "\t  1.577081476  & -2.27216265   & -2.0239341    &  0.31466374   & -0.12865519   &  0.08074023   &  0.002159373  & -3.212708e-15 & -4.440892e-16 & -2.109424e-15\\\\\n",
       "\t  2.782188928  &  0.01981885   & -0.2788901    & -1.27574856   & -0.19295853   & -0.06080427   & -0.001684891  &  1.720846e-15 &  2.498002e-16 &  8.881784e-16\\\\\n",
       "\t  5.521374162  &  1.81311979   &  0.5282973    &  0.26557565   &  0.21718951   &  0.05216423   &  0.001469379  & -1.776357e-15 & -2.220446e-16 & -7.771561e-16\\\\\n",
       "\t  0.760921709  &  0.24672550   &  1.0408447    &  0.95201296   & -0.35514646   & -0.06834737   & -0.001962358  &  1.942890e-15 &  6.661338e-16 &  7.771561e-16\\\\\n",
       "\t -3.134786469  &  2.75254294   & -2.0459048    &  0.09302866   & -0.01237577   & -0.01332841   &  0.004693682  & -6.106227e-16 &  1.221245e-15 & -3.885781e-16\\\\\n",
       "\t -1.917638912  & -0.16258964   &  0.7295488    & -0.14670090   &  0.02940607   &  0.03886989   & -0.035411821  &  5.107026e-15 & -4.773959e-15 &  1.157408e-14\\\\\n",
       "\t -1.940806932  & -0.10692438   &  0.6764422    & -0.14201134   &  0.02842629   &  0.03576276   & -0.026331304  &  3.663736e-15 & -3.552714e-15 &  8.631984e-15\\\\\n",
       "\t -1.867675255  & -0.28079425   &  0.8411918    & -0.15549637   &  0.02959535   &  0.02353062   &  0.031735738  & -5.939693e-15 &  3.885781e-15 & -1.035283e-14\\\\\n",
       "\t -1.772406616  & -0.50897121   &  1.0584378    & -0.17426303   &  0.03286941   &  0.02765877   &  0.028429419  & -5.384582e-15 &  3.441691e-15 & -9.381385e-15\\\\\n",
       "\\end{tabular}\n"
      ],
      "text/markdown": [
       "\n",
       "| Comp.1 | Comp.2 | Comp.3 | Comp.4 | Comp.5 | Comp.6 | Comp.7 | Comp.8 | Comp.9 | Comp.10 |\n",
       "|---|---|---|---|---|---|---|---|---|---|\n",
       "| -0.008252091  | -1.50076497   | -0.5260335    |  0.26893920   |  0.35164933   | -0.11624646   | -0.003097217  |  4.496403e-15 | -6.106227e-16 |  1.082467e-15 |\n",
       "|  1.577081476  | -2.27216265   | -2.0239341    |  0.31466374   | -0.12865519   |  0.08074023   |  0.002159373  | -3.212708e-15 | -4.440892e-16 | -2.109424e-15 |\n",
       "|  2.782188928  |  0.01981885   | -0.2788901    | -1.27574856   | -0.19295853   | -0.06080427   | -0.001684891  |  1.720846e-15 |  2.498002e-16 |  8.881784e-16 |\n",
       "|  5.521374162  |  1.81311979   |  0.5282973    |  0.26557565   |  0.21718951   |  0.05216423   |  0.001469379  | -1.776357e-15 | -2.220446e-16 | -7.771561e-16 |\n",
       "|  0.760921709  |  0.24672550   |  1.0408447    |  0.95201296   | -0.35514646   | -0.06834737   | -0.001962358  |  1.942890e-15 |  6.661338e-16 |  7.771561e-16 |\n",
       "| -3.134786469  |  2.75254294   | -2.0459048    |  0.09302866   | -0.01237577   | -0.01332841   |  0.004693682  | -6.106227e-16 |  1.221245e-15 | -3.885781e-16 |\n",
       "| -1.917638912  | -0.16258964   |  0.7295488    | -0.14670090   |  0.02940607   |  0.03886989   | -0.035411821  |  5.107026e-15 | -4.773959e-15 |  1.157408e-14 |\n",
       "| -1.940806932  | -0.10692438   |  0.6764422    | -0.14201134   |  0.02842629   |  0.03576276   | -0.026331304  |  3.663736e-15 | -3.552714e-15 |  8.631984e-15 |\n",
       "| -1.867675255  | -0.28079425   |  0.8411918    | -0.15549637   |  0.02959535   |  0.02353062   |  0.031735738  | -5.939693e-15 |  3.885781e-15 | -1.035283e-14 |\n",
       "| -1.772406616  | -0.50897121   |  1.0584378    | -0.17426303   |  0.03286941   |  0.02765877   |  0.028429419  | -5.384582e-15 |  3.441691e-15 | -9.381385e-15 |\n",
       "\n"
      ],
      "text/plain": [
       "      Comp.1       Comp.2      Comp.3     Comp.4      Comp.5      Comp.6     \n",
       " [1,] -0.008252091 -1.50076497 -0.5260335  0.26893920  0.35164933 -0.11624646\n",
       " [2,]  1.577081476 -2.27216265 -2.0239341  0.31466374 -0.12865519  0.08074023\n",
       " [3,]  2.782188928  0.01981885 -0.2788901 -1.27574856 -0.19295853 -0.06080427\n",
       " [4,]  5.521374162  1.81311979  0.5282973  0.26557565  0.21718951  0.05216423\n",
       " [5,]  0.760921709  0.24672550  1.0408447  0.95201296 -0.35514646 -0.06834737\n",
       " [6,] -3.134786469  2.75254294 -2.0459048  0.09302866 -0.01237577 -0.01332841\n",
       " [7,] -1.917638912 -0.16258964  0.7295488 -0.14670090  0.02940607  0.03886989\n",
       " [8,] -1.940806932 -0.10692438  0.6764422 -0.14201134  0.02842629  0.03576276\n",
       " [9,] -1.867675255 -0.28079425  0.8411918 -0.15549637  0.02959535  0.02353062\n",
       "[10,] -1.772406616 -0.50897121  1.0584378 -0.17426303  0.03286941  0.02765877\n",
       "      Comp.7       Comp.8        Comp.9        Comp.10      \n",
       " [1,] -0.003097217  4.496403e-15 -6.106227e-16  1.082467e-15\n",
       " [2,]  0.002159373 -3.212708e-15 -4.440892e-16 -2.109424e-15\n",
       " [3,] -0.001684891  1.720846e-15  2.498002e-16  8.881784e-16\n",
       " [4,]  0.001469379 -1.776357e-15 -2.220446e-16 -7.771561e-16\n",
       " [5,] -0.001962358  1.942890e-15  6.661338e-16  7.771561e-16\n",
       " [6,]  0.004693682 -6.106227e-16  1.221245e-15 -3.885781e-16\n",
       " [7,] -0.035411821  5.107026e-15 -4.773959e-15  1.157408e-14\n",
       " [8,] -0.026331304  3.663736e-15 -3.552714e-15  8.631984e-15\n",
       " [9,]  0.031735738 -5.939693e-15  3.885781e-15 -1.035283e-14\n",
       "[10,]  0.028429419 -5.384582e-15  3.441691e-15 -9.381385e-15"
      ]
     },
     "metadata": {},
     "output_type": "display_data"
    }
   ],
   "source": [
    "pcal$scores[1:10,]"
   ]
  },
  {
   "cell_type": "code",
   "execution_count": null,
   "metadata": {},
   "outputs": [],
   "source": []
  }
 ],
 "metadata": {
  "kernelspec": {
   "display_name": "R",
   "language": "R",
   "name": "ir"
  },
  "language_info": {
   "codemirror_mode": "r",
   "file_extension": ".r",
   "mimetype": "text/x-r-source",
   "name": "R",
   "pygments_lexer": "r",
   "version": "3.6.1"
  }
 },
 "nbformat": 4,
 "nbformat_minor": 4
}
